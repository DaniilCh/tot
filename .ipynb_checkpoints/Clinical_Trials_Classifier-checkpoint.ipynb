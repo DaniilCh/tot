{
 "cells": [
  {
   "cell_type": "code",
   "execution_count": 1,
   "metadata": {},
   "outputs": [
    {
     "name": "stderr",
     "output_type": "stream",
     "text": [
      "/home/daniil_chuykin/anaconda3/envs/py36/lib/python3.6/site-packages/sklearn/cross_validation.py:41: DeprecationWarning: This module was deprecated in version 0.18 in favor of the model_selection module into which all the refactored classes and functions are moved. Also note that the interface of the new CV iterators are different from that of this module. This module will be removed in 0.20.\n",
      "  \"This module will be removed in 0.20.\", DeprecationWarning)\n",
      "/home/daniil_chuykin/anaconda3/envs/py36/lib/python3.6/site-packages/sklearn/learning_curve.py:22: DeprecationWarning: This module was deprecated in version 0.18 in favor of the model_selection module into which all the functions are moved. This module will be removed in 0.20\n",
      "  DeprecationWarning)\n"
     ]
    }
   ],
   "source": [
    "import pandas as pd\n",
    "import xml.etree.cElementTree as ET\n",
    "import os.path\n",
    "import itertools\n",
    "import collections\n",
    "import re\n",
    "import numpy as np\n",
    "import seaborn as sns\n",
    "import nltk\n",
    "import pickle\n",
    "from xgboost import XGBClassifier\n",
    "from nltk.stem.snowball import SnowballStemmer\n",
    "from collections import Counter\n",
    "from matplotlib import pyplot as plt\n",
    "from sklearn.feature_extraction.text import CountVectorizer\n",
    "from sklearn.metrics.pairwise import cosine_similarity\n",
    "from sklearn.metrics import roc_auc_score\n",
    "from sklearn.metrics import log_loss\n",
    "from sklearn.metrics import average_precision_score\n",
    "from sklearn.metrics import recall_score\n",
    "from sklearn.linear_model import LogisticRegressionCV\n",
    "from sklearn.preprocessing import MultiLabelBinarizer\n",
    "from sklearn.model_selection import train_test_split\n",
    "from sklearn.model_selection import GridSearchCV\n",
    "from sklearn.model_selection import cross_val_score\n",
    "from sklearn.model_selection import KFold\n",
    "from sklearn.ensemble import RandomForestClassifier\n",
    "from sklearn.learning_curve import validation_curve\n",
    "from imblearn.under_sampling import RandomUnderSampler\n"
   ]
  },
  {
   "cell_type": "markdown",
   "metadata": {},
   "source": [
    "# Создание датасета и предобработка данных"
   ]
  },
  {
   "cell_type": "markdown",
   "metadata": {},
   "source": [
    "Считаем данные поисковой выдачи в pandas dataframe."
   ]
  },
  {
   "cell_type": "code",
   "execution_count": 2,
   "metadata": {},
   "outputs": [
    {
     "data": {
      "text/html": [
       "<div>\n",
       "<style scoped>\n",
       "    .dataframe tbody tr th:only-of-type {\n",
       "        vertical-align: middle;\n",
       "    }\n",
       "\n",
       "    .dataframe tbody tr th {\n",
       "        vertical-align: top;\n",
       "    }\n",
       "\n",
       "    .dataframe thead th {\n",
       "        text-align: right;\n",
       "    }\n",
       "</style>\n",
       "<table border=\"1\" class=\"dataframe\">\n",
       "  <thead>\n",
       "    <tr style=\"text-align: right;\">\n",
       "      <th></th>\n",
       "      <th>Rank</th>\n",
       "      <th>NCT Number</th>\n",
       "      <th>Title</th>\n",
       "      <th>Acronym</th>\n",
       "      <th>Status</th>\n",
       "      <th>Study Results</th>\n",
       "      <th>Interventions</th>\n",
       "      <th>Phases</th>\n",
       "      <th>Results First Posted</th>\n",
       "      <th>URL</th>\n",
       "    </tr>\n",
       "  </thead>\n",
       "  <tbody>\n",
       "    <tr>\n",
       "      <th>0</th>\n",
       "      <td>1</td>\n",
       "      <td>NCT02266147</td>\n",
       "      <td>Study of SD-101 in Combination With Localized ...</td>\n",
       "      <td>NaN</td>\n",
       "      <td>Completed</td>\n",
       "      <td>No Results Available</td>\n",
       "      <td>Drug: SD-101|Radiation: Radiation therapy</td>\n",
       "      <td>Phase 1|Phase 2</td>\n",
       "      <td>NaN</td>\n",
       "      <td>https://ClinicalTrials.gov/show/NCT02266147</td>\n",
       "    </tr>\n",
       "    <tr>\n",
       "      <th>1</th>\n",
       "      <td>2</td>\n",
       "      <td>NCT02055924</td>\n",
       "      <td>Bruton's Tyrosine Kinase (BTK) Inhibition in B...</td>\n",
       "      <td>BIBLOS</td>\n",
       "      <td>Terminated</td>\n",
       "      <td>No Results Available</td>\n",
       "      <td>Drug: Ibrutinib and immunochemotherapies</td>\n",
       "      <td>Phase 1</td>\n",
       "      <td>NaN</td>\n",
       "      <td>https://ClinicalTrials.gov/show/NCT02055924</td>\n",
       "    </tr>\n",
       "    <tr>\n",
       "      <th>2</th>\n",
       "      <td>3</td>\n",
       "      <td>NCT02395601</td>\n",
       "      <td>A Study Evaluating CPI-1205 in Patients With B...</td>\n",
       "      <td>NaN</td>\n",
       "      <td>Active, not recruiting</td>\n",
       "      <td>No Results Available</td>\n",
       "      <td>Drug: CPI-1205</td>\n",
       "      <td>Phase 1</td>\n",
       "      <td>NaN</td>\n",
       "      <td>https://ClinicalTrials.gov/show/NCT02395601</td>\n",
       "    </tr>\n",
       "    <tr>\n",
       "      <th>3</th>\n",
       "      <td>4</td>\n",
       "      <td>NCT00162656</td>\n",
       "      <td>Treatment of Mature B-cell Lymphoma/Leukaemia</td>\n",
       "      <td>NaN</td>\n",
       "      <td>Completed</td>\n",
       "      <td>No Results Available</td>\n",
       "      <td>Drug: half cyclophosphamide|Drug: without COPA...</td>\n",
       "      <td>Phase 3</td>\n",
       "      <td>NaN</td>\n",
       "      <td>https://ClinicalTrials.gov/show/NCT00162656</td>\n",
       "    </tr>\n",
       "    <tr>\n",
       "      <th>4</th>\n",
       "      <td>5</td>\n",
       "      <td>NCT03424122</td>\n",
       "      <td>INCB050465 in Combination With Rituximab, Bend...</td>\n",
       "      <td>NaN</td>\n",
       "      <td>Recruiting</td>\n",
       "      <td>No Results Available</td>\n",
       "      <td>Drug: INCB050465|Drug: Rituximab|Drug: Bendamu...</td>\n",
       "      <td>Phase 1</td>\n",
       "      <td>NaN</td>\n",
       "      <td>https://ClinicalTrials.gov/show/NCT03424122</td>\n",
       "    </tr>\n",
       "    <tr>\n",
       "      <th>5</th>\n",
       "      <td>6</td>\n",
       "      <td>NCT02247609</td>\n",
       "      <td>Evaluation of 4th Generation Safety-designed C...</td>\n",
       "      <td>4SCAR19273</td>\n",
       "      <td>Unknown status</td>\n",
       "      <td>No Results Available</td>\n",
       "      <td>Genetic: Anti-CD19 CAR T cells</td>\n",
       "      <td>Phase 1|Phase 2</td>\n",
       "      <td>NaN</td>\n",
       "      <td>https://ClinicalTrials.gov/show/NCT02247609</td>\n",
       "    </tr>\n",
       "    <tr>\n",
       "      <th>6</th>\n",
       "      <td>7</td>\n",
       "      <td>NCT01478269</td>\n",
       "      <td>Prognosis Of Patients With Aggressive B-Cell L...</td>\n",
       "      <td>ProDLBCL</td>\n",
       "      <td>Completed</td>\n",
       "      <td>No Results Available</td>\n",
       "      <td>NaN</td>\n",
       "      <td>NaN</td>\n",
       "      <td>NaN</td>\n",
       "      <td>https://ClinicalTrials.gov/show/NCT01478269</td>\n",
       "    </tr>\n",
       "    <tr>\n",
       "      <th>7</th>\n",
       "      <td>8</td>\n",
       "      <td>NCT03664336</td>\n",
       "      <td>Refractory Diffuse Large B-cell Lymphoma</td>\n",
       "      <td>NaN</td>\n",
       "      <td>Completed</td>\n",
       "      <td>No Results Available</td>\n",
       "      <td>NaN</td>\n",
       "      <td>NaN</td>\n",
       "      <td>NaN</td>\n",
       "      <td>https://ClinicalTrials.gov/show/NCT03664336</td>\n",
       "    </tr>\n",
       "    <tr>\n",
       "      <th>8</th>\n",
       "      <td>9</td>\n",
       "      <td>NCT03258047</td>\n",
       "      <td>Novel Autologou CAR-T Therapy for Relapsed/Ref...</td>\n",
       "      <td>NaN</td>\n",
       "      <td>Recruiting</td>\n",
       "      <td>No Results Available</td>\n",
       "      <td>Combination Product: CAR-T</td>\n",
       "      <td>Phase 2</td>\n",
       "      <td>NaN</td>\n",
       "      <td>https://ClinicalTrials.gov/show/NCT03258047</td>\n",
       "    </tr>\n",
       "    <tr>\n",
       "      <th>9</th>\n",
       "      <td>10</td>\n",
       "      <td>NCT02433795</td>\n",
       "      <td>Bendamustine Plus Rituximab (BR) for Relapsed ...</td>\n",
       "      <td>NaN</td>\n",
       "      <td>Active, not recruiting</td>\n",
       "      <td>No Results Available</td>\n",
       "      <td>Drug: bendamustine plus rituximab</td>\n",
       "      <td>Phase 2</td>\n",
       "      <td>NaN</td>\n",
       "      <td>https://ClinicalTrials.gov/show/NCT02433795</td>\n",
       "    </tr>\n",
       "  </tbody>\n",
       "</table>\n",
       "</div>"
      ],
      "text/plain": [
       "   Rank   NCT Number                                              Title  \\\n",
       "0     1  NCT02266147  Study of SD-101 in Combination With Localized ...   \n",
       "1     2  NCT02055924  Bruton's Tyrosine Kinase (BTK) Inhibition in B...   \n",
       "2     3  NCT02395601  A Study Evaluating CPI-1205 in Patients With B...   \n",
       "3     4  NCT00162656      Treatment of Mature B-cell Lymphoma/Leukaemia   \n",
       "4     5  NCT03424122  INCB050465 in Combination With Rituximab, Bend...   \n",
       "5     6  NCT02247609  Evaluation of 4th Generation Safety-designed C...   \n",
       "6     7  NCT01478269  Prognosis Of Patients With Aggressive B-Cell L...   \n",
       "7     8  NCT03664336           Refractory Diffuse Large B-cell Lymphoma   \n",
       "8     9  NCT03258047  Novel Autologou CAR-T Therapy for Relapsed/Ref...   \n",
       "9    10  NCT02433795  Bendamustine Plus Rituximab (BR) for Relapsed ...   \n",
       "\n",
       "      Acronym                  Status         Study Results  \\\n",
       "0         NaN               Completed  No Results Available   \n",
       "1      BIBLOS              Terminated  No Results Available   \n",
       "2         NaN  Active, not recruiting  No Results Available   \n",
       "3         NaN               Completed  No Results Available   \n",
       "4         NaN              Recruiting  No Results Available   \n",
       "5  4SCAR19273          Unknown status  No Results Available   \n",
       "6    ProDLBCL               Completed  No Results Available   \n",
       "7         NaN               Completed  No Results Available   \n",
       "8         NaN              Recruiting  No Results Available   \n",
       "9         NaN  Active, not recruiting  No Results Available   \n",
       "\n",
       "                                       Interventions           Phases  \\\n",
       "0          Drug: SD-101|Radiation: Radiation therapy  Phase 1|Phase 2   \n",
       "1           Drug: Ibrutinib and immunochemotherapies          Phase 1   \n",
       "2                                     Drug: CPI-1205          Phase 1   \n",
       "3  Drug: half cyclophosphamide|Drug: without COPA...          Phase 3   \n",
       "4  Drug: INCB050465|Drug: Rituximab|Drug: Bendamu...          Phase 1   \n",
       "5                     Genetic: Anti-CD19 CAR T cells  Phase 1|Phase 2   \n",
       "6                                                NaN              NaN   \n",
       "7                                                NaN              NaN   \n",
       "8                         Combination Product: CAR-T          Phase 2   \n",
       "9                  Drug: bendamustine plus rituximab          Phase 2   \n",
       "\n",
       "  Results First Posted                                          URL  \n",
       "0                  NaN  https://ClinicalTrials.gov/show/NCT02266147  \n",
       "1                  NaN  https://ClinicalTrials.gov/show/NCT02055924  \n",
       "2                  NaN  https://ClinicalTrials.gov/show/NCT02395601  \n",
       "3                  NaN  https://ClinicalTrials.gov/show/NCT00162656  \n",
       "4                  NaN  https://ClinicalTrials.gov/show/NCT03424122  \n",
       "5                  NaN  https://ClinicalTrials.gov/show/NCT02247609  \n",
       "6                  NaN  https://ClinicalTrials.gov/show/NCT01478269  \n",
       "7                  NaN  https://ClinicalTrials.gov/show/NCT03664336  \n",
       "8                  NaN  https://ClinicalTrials.gov/show/NCT03258047  \n",
       "9                  NaN  https://ClinicalTrials.gov/show/NCT02433795  "
      ]
     },
     "execution_count": 2,
     "metadata": {},
     "output_type": "execute_result"
    }
   ],
   "source": [
    "data = pd.read_csv(os.path.join('data', 'SearchResults.csv'))\n",
    "data.head(10)"
   ]
  },
  {
   "cell_type": "markdown",
   "metadata": {},
   "source": [
    "Извлечем названия исследований из файлов с подробной информацией о документах."
   ]
  },
  {
   "cell_type": "code",
   "execution_count": 3,
   "metadata": {},
   "outputs": [],
   "source": [
    "def get_title(file_path):\n",
    "    tree = ET.parse(file_path)\n",
    "    root = tree.getroot()\n",
    "    for child in root:\n",
    "        if child.tag == 'official_title':\n",
    "            return child.text"
   ]
  },
  {
   "cell_type": "code",
   "execution_count": 4,
   "metadata": {},
   "outputs": [],
   "source": [
    "title_list = []\n",
    "\n",
    "for nct in data['NCT Number']:\n",
    "    file_name = nct + '.xml'\n",
    "    file_path = os.path.join('data', 'search_result', file_name)\n",
    "    try:\n",
    "        title_list.append(get_title(file_path))\n",
    "    except:\n",
    "        title_list.append(np.nan)"
   ]
  },
  {
   "cell_type": "code",
   "execution_count": 5,
   "metadata": {},
   "outputs": [],
   "source": [
    "data['Official Title'] = title_list"
   ]
  },
  {
   "cell_type": "markdown",
   "metadata": {},
   "source": [
    "Удалим все лишнее."
   ]
  },
  {
   "cell_type": "code",
   "execution_count": 6,
   "metadata": {},
   "outputs": [],
   "source": [
    "data = data.drop(['Acronym', 'Status', 'Rank', 'Study Results', 'Results First Posted', 'URL'], axis=1)"
   ]
  },
  {
   "cell_type": "code",
   "execution_count": 7,
   "metadata": {},
   "outputs": [],
   "source": [
    "data.dropna(inplace = True)"
   ]
  },
  {
   "cell_type": "code",
   "execution_count": 8,
   "metadata": {},
   "outputs": [
    {
     "data": {
      "text/html": [
       "<div>\n",
       "<style scoped>\n",
       "    .dataframe tbody tr th:only-of-type {\n",
       "        vertical-align: middle;\n",
       "    }\n",
       "\n",
       "    .dataframe tbody tr th {\n",
       "        vertical-align: top;\n",
       "    }\n",
       "\n",
       "    .dataframe thead th {\n",
       "        text-align: right;\n",
       "    }\n",
       "</style>\n",
       "<table border=\"1\" class=\"dataframe\">\n",
       "  <thead>\n",
       "    <tr style=\"text-align: right;\">\n",
       "      <th></th>\n",
       "      <th>NCT Number</th>\n",
       "      <th>Title</th>\n",
       "      <th>Interventions</th>\n",
       "      <th>Phases</th>\n",
       "      <th>Official Title</th>\n",
       "    </tr>\n",
       "  </thead>\n",
       "  <tbody>\n",
       "    <tr>\n",
       "      <th>0</th>\n",
       "      <td>NCT02266147</td>\n",
       "      <td>Study of SD-101 in Combination With Localized ...</td>\n",
       "      <td>Drug: SD-101|Radiation: Radiation therapy</td>\n",
       "      <td>Phase 1|Phase 2</td>\n",
       "      <td>A Phase 1/2, Non-randomized, Open-label, Multi...</td>\n",
       "    </tr>\n",
       "    <tr>\n",
       "      <th>1</th>\n",
       "      <td>NCT02055924</td>\n",
       "      <td>Bruton's Tyrosine Kinase (BTK) Inhibition in B...</td>\n",
       "      <td>Drug: Ibrutinib and immunochemotherapies</td>\n",
       "      <td>Phase 1</td>\n",
       "      <td>A Phase Ib Study of Ibrutinib Combined With R-...</td>\n",
       "    </tr>\n",
       "    <tr>\n",
       "      <th>2</th>\n",
       "      <td>NCT02395601</td>\n",
       "      <td>A Study Evaluating CPI-1205 in Patients With B...</td>\n",
       "      <td>Drug: CPI-1205</td>\n",
       "      <td>Phase 1</td>\n",
       "      <td>A Phase 1 Study of CPI-1205, a Small Molecule ...</td>\n",
       "    </tr>\n",
       "    <tr>\n",
       "      <th>3</th>\n",
       "      <td>NCT00162656</td>\n",
       "      <td>Treatment of Mature B-cell Lymphoma/Leukaemia</td>\n",
       "      <td>Drug: half cyclophosphamide|Drug: without COPA...</td>\n",
       "      <td>Phase 3</td>\n",
       "      <td>Treatment of Mature B-cell Lymphoma/Leukaemia ...</td>\n",
       "    </tr>\n",
       "    <tr>\n",
       "      <th>5</th>\n",
       "      <td>NCT02247609</td>\n",
       "      <td>Evaluation of 4th Generation Safety-designed C...</td>\n",
       "      <td>Genetic: Anti-CD19 CAR T cells</td>\n",
       "      <td>Phase 1|Phase 2</td>\n",
       "      <td>Safety and Efficacy Evaluation of 4th Generati...</td>\n",
       "    </tr>\n",
       "    <tr>\n",
       "      <th>9</th>\n",
       "      <td>NCT02433795</td>\n",
       "      <td>Bendamustine Plus Rituximab (BR) for Relapsed ...</td>\n",
       "      <td>Drug: bendamustine plus rituximab</td>\n",
       "      <td>Phase 2</td>\n",
       "      <td>A Phase II Study of Bendamustine Plus Rituxima...</td>\n",
       "    </tr>\n",
       "    <tr>\n",
       "      <th>11</th>\n",
       "      <td>NCT02547948</td>\n",
       "      <td>CD19-targeting CAR T Cells for B Cell Lymphoma</td>\n",
       "      <td>Biological: CD19-targeting CAR T Cells infusion</td>\n",
       "      <td>Phase 1|Phase 2</td>\n",
       "      <td>CD19-targeting CAR T Cells for Refractory B Ce...</td>\n",
       "    </tr>\n",
       "    <tr>\n",
       "      <th>19</th>\n",
       "      <td>NCT02060656</td>\n",
       "      <td>Phase II Study Comparing LR-GEM to R-GEM-P in ...</td>\n",
       "      <td>Drug: Gemcitabine|Drug: Methylprednisolone|Dru...</td>\n",
       "      <td>Phase 2</td>\n",
       "      <td>A Randomised Phase II Study Comparing LEnalido...</td>\n",
       "    </tr>\n",
       "    <tr>\n",
       "      <th>20</th>\n",
       "      <td>NCT01068392</td>\n",
       "      <td>Oxaliplatin and Prednisolone (Ox-P) for Patien...</td>\n",
       "      <td>Drug: Oxaliplatin, Prednisolone</td>\n",
       "      <td>Phase 2</td>\n",
       "      <td>A Phase II Study of Oxaliplatin and Prednisolo...</td>\n",
       "    </tr>\n",
       "    <tr>\n",
       "      <th>21</th>\n",
       "      <td>NCT02531308</td>\n",
       "      <td>Metformin in Combination With Standard Inducti...</td>\n",
       "      <td>Drug: Metformin|Drug: Rituximab|Drug: Cyclopho...</td>\n",
       "      <td>Phase 2</td>\n",
       "      <td>A Phase ll Study Evaluating the Efficacy and S...</td>\n",
       "    </tr>\n",
       "  </tbody>\n",
       "</table>\n",
       "</div>"
      ],
      "text/plain": [
       "     NCT Number                                              Title  \\\n",
       "0   NCT02266147  Study of SD-101 in Combination With Localized ...   \n",
       "1   NCT02055924  Bruton's Tyrosine Kinase (BTK) Inhibition in B...   \n",
       "2   NCT02395601  A Study Evaluating CPI-1205 in Patients With B...   \n",
       "3   NCT00162656      Treatment of Mature B-cell Lymphoma/Leukaemia   \n",
       "5   NCT02247609  Evaluation of 4th Generation Safety-designed C...   \n",
       "9   NCT02433795  Bendamustine Plus Rituximab (BR) for Relapsed ...   \n",
       "11  NCT02547948     CD19-targeting CAR T Cells for B Cell Lymphoma   \n",
       "19  NCT02060656  Phase II Study Comparing LR-GEM to R-GEM-P in ...   \n",
       "20  NCT01068392  Oxaliplatin and Prednisolone (Ox-P) for Patien...   \n",
       "21  NCT02531308  Metformin in Combination With Standard Inducti...   \n",
       "\n",
       "                                        Interventions           Phases  \\\n",
       "0           Drug: SD-101|Radiation: Radiation therapy  Phase 1|Phase 2   \n",
       "1            Drug: Ibrutinib and immunochemotherapies          Phase 1   \n",
       "2                                      Drug: CPI-1205          Phase 1   \n",
       "3   Drug: half cyclophosphamide|Drug: without COPA...          Phase 3   \n",
       "5                      Genetic: Anti-CD19 CAR T cells  Phase 1|Phase 2   \n",
       "9                   Drug: bendamustine plus rituximab          Phase 2   \n",
       "11    Biological: CD19-targeting CAR T Cells infusion  Phase 1|Phase 2   \n",
       "19  Drug: Gemcitabine|Drug: Methylprednisolone|Dru...          Phase 2   \n",
       "20                    Drug: Oxaliplatin, Prednisolone          Phase 2   \n",
       "21  Drug: Metformin|Drug: Rituximab|Drug: Cyclopho...          Phase 2   \n",
       "\n",
       "                                       Official Title  \n",
       "0   A Phase 1/2, Non-randomized, Open-label, Multi...  \n",
       "1   A Phase Ib Study of Ibrutinib Combined With R-...  \n",
       "2   A Phase 1 Study of CPI-1205, a Small Molecule ...  \n",
       "3   Treatment of Mature B-cell Lymphoma/Leukaemia ...  \n",
       "5   Safety and Efficacy Evaluation of 4th Generati...  \n",
       "9   A Phase II Study of Bendamustine Plus Rituxima...  \n",
       "11  CD19-targeting CAR T Cells for Refractory B Ce...  \n",
       "19  A Randomised Phase II Study Comparing LEnalido...  \n",
       "20  A Phase II Study of Oxaliplatin and Prednisolo...  \n",
       "21  A Phase ll Study Evaluating the Efficacy and S...  "
      ]
     },
     "execution_count": 8,
     "metadata": {},
     "output_type": "execute_result"
    }
   ],
   "source": [
    "data.head(10)"
   ]
  },
  {
   "cell_type": "markdown",
   "metadata": {},
   "source": [
    "Применим к текстовым полям стемминг и удалим пунктуацию."
   ]
  },
  {
   "cell_type": "code",
   "execution_count": 9,
   "metadata": {},
   "outputs": [],
   "source": [
    "stemmer = SnowballStemmer(\"english\")\n",
    "\n",
    "def stemming(text):\n",
    "    text = [stemmer.stem(word) for word in text.split()]\n",
    "    return \" \".join(text)\n"
   ]
  },
  {
   "cell_type": "code",
   "execution_count": 10,
   "metadata": {},
   "outputs": [],
   "source": [
    "data['Title'] = data['Title'].apply(stemming)\n",
    "data['Official Title'] = data['Official Title'].apply(str).apply(stemming)"
   ]
  },
  {
   "cell_type": "code",
   "execution_count": 11,
   "metadata": {},
   "outputs": [],
   "source": [
    "def remove_punctuation(text):\n",
    "    import string\n",
    "    translator = str.maketrans('', '', string.punctuation)\n",
    "    return text.translate(translator)\n"
   ]
  },
  {
   "cell_type": "code",
   "execution_count": 12,
   "metadata": {},
   "outputs": [],
   "source": [
    "data['Title'] = data['Title'].apply(remove_punctuation)\n",
    "data['Official Title'] = data['Official Title'].apply(remove_punctuation)"
   ]
  },
  {
   "cell_type": "code",
   "execution_count": 13,
   "metadata": {},
   "outputs": [
    {
     "data": {
      "text/html": [
       "<div>\n",
       "<style scoped>\n",
       "    .dataframe tbody tr th:only-of-type {\n",
       "        vertical-align: middle;\n",
       "    }\n",
       "\n",
       "    .dataframe tbody tr th {\n",
       "        vertical-align: top;\n",
       "    }\n",
       "\n",
       "    .dataframe thead th {\n",
       "        text-align: right;\n",
       "    }\n",
       "</style>\n",
       "<table border=\"1\" class=\"dataframe\">\n",
       "  <thead>\n",
       "    <tr style=\"text-align: right;\">\n",
       "      <th></th>\n",
       "      <th>NCT Number</th>\n",
       "      <th>Title</th>\n",
       "      <th>Interventions</th>\n",
       "      <th>Phases</th>\n",
       "      <th>Official Title</th>\n",
       "    </tr>\n",
       "  </thead>\n",
       "  <tbody>\n",
       "    <tr>\n",
       "      <th>0</th>\n",
       "      <td>NCT02266147</td>\n",
       "      <td>studi of sd101 in combin with local lowdos rad...</td>\n",
       "      <td>Drug: SD-101|Radiation: Radiation therapy</td>\n",
       "      <td>Phase 1|Phase 2</td>\n",
       "      <td>a phase 12 nonrandomized openlabel multicenter...</td>\n",
       "    </tr>\n",
       "    <tr>\n",
       "      <th>1</th>\n",
       "      <td>NCT02055924</td>\n",
       "      <td>bruton tyrosin kinas btk inhibit in bcell lymp...</td>\n",
       "      <td>Drug: Ibrutinib and immunochemotherapies</td>\n",
       "      <td>Phase 1</td>\n",
       "      <td>a phase ib studi of ibrutinib combin with rdha...</td>\n",
       "    </tr>\n",
       "    <tr>\n",
       "      <th>2</th>\n",
       "      <td>NCT02395601</td>\n",
       "      <td>a studi evalu cpi1205 in patient with bcell ly...</td>\n",
       "      <td>Drug: CPI-1205</td>\n",
       "      <td>Phase 1</td>\n",
       "      <td>a phase 1 studi of cpi1205 a small molecul inh...</td>\n",
       "    </tr>\n",
       "    <tr>\n",
       "      <th>3</th>\n",
       "      <td>NCT00162656</td>\n",
       "      <td>treatment of matur bcell lymphomaleukaemia</td>\n",
       "      <td>Drug: half cyclophosphamide|Drug: without COPA...</td>\n",
       "      <td>Phase 3</td>\n",
       "      <td>treatment of matur bcell lymphomaleukaemia a s...</td>\n",
       "    </tr>\n",
       "    <tr>\n",
       "      <th>5</th>\n",
       "      <td>NCT02247609</td>\n",
       "      <td>evalu of 4th generat safetydesign car t cell t...</td>\n",
       "      <td>Genetic: Anti-CD19 CAR T cells</td>\n",
       "      <td>Phase 1|Phase 2</td>\n",
       "      <td>safeti and efficaci evalu of 4th generat safet...</td>\n",
       "    </tr>\n",
       "  </tbody>\n",
       "</table>\n",
       "</div>"
      ],
      "text/plain": [
       "    NCT Number                                              Title  \\\n",
       "0  NCT02266147  studi of sd101 in combin with local lowdos rad...   \n",
       "1  NCT02055924  bruton tyrosin kinas btk inhibit in bcell lymp...   \n",
       "2  NCT02395601  a studi evalu cpi1205 in patient with bcell ly...   \n",
       "3  NCT00162656         treatment of matur bcell lymphomaleukaemia   \n",
       "5  NCT02247609  evalu of 4th generat safetydesign car t cell t...   \n",
       "\n",
       "                                       Interventions           Phases  \\\n",
       "0          Drug: SD-101|Radiation: Radiation therapy  Phase 1|Phase 2   \n",
       "1           Drug: Ibrutinib and immunochemotherapies          Phase 1   \n",
       "2                                     Drug: CPI-1205          Phase 1   \n",
       "3  Drug: half cyclophosphamide|Drug: without COPA...          Phase 3   \n",
       "5                     Genetic: Anti-CD19 CAR T cells  Phase 1|Phase 2   \n",
       "\n",
       "                                      Official Title  \n",
       "0  a phase 12 nonrandomized openlabel multicenter...  \n",
       "1  a phase ib studi of ibrutinib combin with rdha...  \n",
       "2  a phase 1 studi of cpi1205 a small molecul inh...  \n",
       "3  treatment of matur bcell lymphomaleukaemia a s...  \n",
       "5  safeti and efficaci evalu of 4th generat safet...  "
      ]
     },
     "execution_count": 13,
     "metadata": {},
     "output_type": "execute_result"
    }
   ],
   "source": [
    "data.head(5)"
   ]
  },
  {
   "cell_type": "markdown",
   "metadata": {},
   "source": [
    "В поле Interventions при перечислении лекарств встречаются связки 'and', 'plus', '+'. Заменим их на запятые и получим списки лекарств."
   ]
  },
  {
   "cell_type": "code",
   "execution_count": 14,
   "metadata": {},
   "outputs": [],
   "source": [
    "def remove_plus(interventions):\n",
    "    interventions = re.sub(' and ', ', ', interventions)\n",
    "    interventions = re.sub(' plus ', ', ', interventions)\n",
    "    interventions = re.sub(' \\+ ', ', ', interventions)\n",
    "    return interventions"
   ]
  },
  {
   "cell_type": "code",
   "execution_count": 15,
   "metadata": {},
   "outputs": [],
   "source": [
    "def get_drugs(interventions):\n",
    "    interventions = remove_plus(interventions)\n",
    "    drugs = [x.split(', ') for x in re.findall('drug: (\\w+-*\\w+[, \\w+]*)', interventions)]\n",
    "    flat_drugs = [item for sublist in drugs for item in sublist]\n",
    "    return flat_drugs"
   ]
  },
  {
   "cell_type": "code",
   "execution_count": 16,
   "metadata": {},
   "outputs": [],
   "source": [
    "def get_phase(phases):\n",
    "    phase = re.findall('Phase (\\d)', phases)\n",
    "    return phase"
   ]
  },
  {
   "cell_type": "code",
   "execution_count": 17,
   "metadata": {},
   "outputs": [],
   "source": [
    "data['Interventions'] = data['Interventions'].apply(lambda x: x.lower())\n",
    "data['Interventions'] = data['Interventions'].apply(get_drugs)\n",
    "data['Phases'] = data['Phases'].apply(get_phase)"
   ]
  },
  {
   "cell_type": "code",
   "execution_count": 18,
   "metadata": {},
   "outputs": [
    {
     "data": {
      "text/html": [
       "<div>\n",
       "<style scoped>\n",
       "    .dataframe tbody tr th:only-of-type {\n",
       "        vertical-align: middle;\n",
       "    }\n",
       "\n",
       "    .dataframe tbody tr th {\n",
       "        vertical-align: top;\n",
       "    }\n",
       "\n",
       "    .dataframe thead th {\n",
       "        text-align: right;\n",
       "    }\n",
       "</style>\n",
       "<table border=\"1\" class=\"dataframe\">\n",
       "  <thead>\n",
       "    <tr style=\"text-align: right;\">\n",
       "      <th></th>\n",
       "      <th>NCT Number</th>\n",
       "      <th>Title</th>\n",
       "      <th>Interventions</th>\n",
       "      <th>Phases</th>\n",
       "      <th>Official Title</th>\n",
       "    </tr>\n",
       "  </thead>\n",
       "  <tbody>\n",
       "    <tr>\n",
       "      <th>0</th>\n",
       "      <td>NCT02266147</td>\n",
       "      <td>studi of sd101 in combin with local lowdos rad...</td>\n",
       "      <td>[sd-101]</td>\n",
       "      <td>[1, 2]</td>\n",
       "      <td>a phase 12 nonrandomized openlabel multicenter...</td>\n",
       "    </tr>\n",
       "    <tr>\n",
       "      <th>1</th>\n",
       "      <td>NCT02055924</td>\n",
       "      <td>bruton tyrosin kinas btk inhibit in bcell lymp...</td>\n",
       "      <td>[ibrutinib, immunochemotherapies]</td>\n",
       "      <td>[1]</td>\n",
       "      <td>a phase ib studi of ibrutinib combin with rdha...</td>\n",
       "    </tr>\n",
       "    <tr>\n",
       "      <th>2</th>\n",
       "      <td>NCT02395601</td>\n",
       "      <td>a studi evalu cpi1205 in patient with bcell ly...</td>\n",
       "      <td>[cpi-1205]</td>\n",
       "      <td>[1]</td>\n",
       "      <td>a phase 1 studi of cpi1205 a small molecul inh...</td>\n",
       "    </tr>\n",
       "    <tr>\n",
       "      <th>3</th>\n",
       "      <td>NCT00162656</td>\n",
       "      <td>treatment of matur bcell lymphomaleukaemia</td>\n",
       "      <td>[half cyclophosphamide, without copadm3, mini ...</td>\n",
       "      <td>[3]</td>\n",
       "      <td>treatment of matur bcell lymphomaleukaemia a s...</td>\n",
       "    </tr>\n",
       "    <tr>\n",
       "      <th>5</th>\n",
       "      <td>NCT02247609</td>\n",
       "      <td>evalu of 4th generat safetydesign car t cell t...</td>\n",
       "      <td>[]</td>\n",
       "      <td>[1, 2]</td>\n",
       "      <td>safeti and efficaci evalu of 4th generat safet...</td>\n",
       "    </tr>\n",
       "    <tr>\n",
       "      <th>9</th>\n",
       "      <td>NCT02433795</td>\n",
       "      <td>bendamustin plus rituximab br for relaps or pr...</td>\n",
       "      <td>[bendamustine, rituximab]</td>\n",
       "      <td>[2]</td>\n",
       "      <td>a phase ii studi of bendamustin plus rituximab...</td>\n",
       "    </tr>\n",
       "    <tr>\n",
       "      <th>11</th>\n",
       "      <td>NCT02547948</td>\n",
       "      <td>cd19target car t cell for b cell lymphoma</td>\n",
       "      <td>[]</td>\n",
       "      <td>[1, 2]</td>\n",
       "      <td>cd19target car t cell for refractori b cell ly...</td>\n",
       "    </tr>\n",
       "    <tr>\n",
       "      <th>19</th>\n",
       "      <td>NCT02060656</td>\n",
       "      <td>phase ii studi compar lrgem to rgemp in second...</td>\n",
       "      <td>[gemcitabine, methylprednisolone, rituximab, c...</td>\n",
       "      <td>[2]</td>\n",
       "      <td>a randomis phase ii studi compar lenalidomid p...</td>\n",
       "    </tr>\n",
       "    <tr>\n",
       "      <th>20</th>\n",
       "      <td>NCT01068392</td>\n",
       "      <td>oxaliplatin and prednisolon oxp for patient wi...</td>\n",
       "      <td>[oxaliplatin, prednisolone]</td>\n",
       "      <td>[2]</td>\n",
       "      <td>a phase ii studi of oxaliplatin and prednisolo...</td>\n",
       "    </tr>\n",
       "    <tr>\n",
       "      <th>21</th>\n",
       "      <td>NCT02531308</td>\n",
       "      <td>metformin in combin with standard induct thera...</td>\n",
       "      <td>[metformin, rituximab, cyclophosphamide, doxor...</td>\n",
       "      <td>[2]</td>\n",
       "      <td>a phase ll studi evalu the efficaci and safeti...</td>\n",
       "    </tr>\n",
       "  </tbody>\n",
       "</table>\n",
       "</div>"
      ],
      "text/plain": [
       "     NCT Number                                              Title  \\\n",
       "0   NCT02266147  studi of sd101 in combin with local lowdos rad...   \n",
       "1   NCT02055924  bruton tyrosin kinas btk inhibit in bcell lymp...   \n",
       "2   NCT02395601  a studi evalu cpi1205 in patient with bcell ly...   \n",
       "3   NCT00162656         treatment of matur bcell lymphomaleukaemia   \n",
       "5   NCT02247609  evalu of 4th generat safetydesign car t cell t...   \n",
       "9   NCT02433795  bendamustin plus rituximab br for relaps or pr...   \n",
       "11  NCT02547948          cd19target car t cell for b cell lymphoma   \n",
       "19  NCT02060656  phase ii studi compar lrgem to rgemp in second...   \n",
       "20  NCT01068392  oxaliplatin and prednisolon oxp for patient wi...   \n",
       "21  NCT02531308  metformin in combin with standard induct thera...   \n",
       "\n",
       "                                        Interventions  Phases  \\\n",
       "0                                            [sd-101]  [1, 2]   \n",
       "1                   [ibrutinib, immunochemotherapies]     [1]   \n",
       "2                                          [cpi-1205]     [1]   \n",
       "3   [half cyclophosphamide, without copadm3, mini ...     [3]   \n",
       "5                                                  []  [1, 2]   \n",
       "9                           [bendamustine, rituximab]     [2]   \n",
       "11                                                 []  [1, 2]   \n",
       "19  [gemcitabine, methylprednisolone, rituximab, c...     [2]   \n",
       "20                        [oxaliplatin, prednisolone]     [2]   \n",
       "21  [metformin, rituximab, cyclophosphamide, doxor...     [2]   \n",
       "\n",
       "                                       Official Title  \n",
       "0   a phase 12 nonrandomized openlabel multicenter...  \n",
       "1   a phase ib studi of ibrutinib combin with rdha...  \n",
       "2   a phase 1 studi of cpi1205 a small molecul inh...  \n",
       "3   treatment of matur bcell lymphomaleukaemia a s...  \n",
       "5   safeti and efficaci evalu of 4th generat safet...  \n",
       "9   a phase ii studi of bendamustin plus rituximab...  \n",
       "11  cd19target car t cell for refractori b cell ly...  \n",
       "19  a randomis phase ii studi compar lenalidomid p...  \n",
       "20  a phase ii studi of oxaliplatin and prednisolo...  \n",
       "21  a phase ll studi evalu the efficaci and safeti...  "
      ]
     },
     "execution_count": 18,
     "metadata": {},
     "output_type": "execute_result"
    }
   ],
   "source": [
    "data.head(10)"
   ]
  },
  {
   "cell_type": "markdown",
   "metadata": {},
   "source": [
    "Удалим строки, содержащие пустые списки в полях interventions и phases."
   ]
  },
  {
   "cell_type": "code",
   "execution_count": 19,
   "metadata": {},
   "outputs": [],
   "source": [
    "data = data[data['Interventions'].map(lambda d: len(d)) > 0]\n",
    "data = data[data['Phases'].map(lambda d: len(d)) > 0]"
   ]
  },
  {
   "cell_type": "code",
   "execution_count": 20,
   "metadata": {},
   "outputs": [
    {
     "data": {
      "text/html": [
       "<div>\n",
       "<style scoped>\n",
       "    .dataframe tbody tr th:only-of-type {\n",
       "        vertical-align: middle;\n",
       "    }\n",
       "\n",
       "    .dataframe tbody tr th {\n",
       "        vertical-align: top;\n",
       "    }\n",
       "\n",
       "    .dataframe thead th {\n",
       "        text-align: right;\n",
       "    }\n",
       "</style>\n",
       "<table border=\"1\" class=\"dataframe\">\n",
       "  <thead>\n",
       "    <tr style=\"text-align: right;\">\n",
       "      <th></th>\n",
       "      <th>NCT Number</th>\n",
       "      <th>Title</th>\n",
       "      <th>Interventions</th>\n",
       "      <th>Phases</th>\n",
       "      <th>Official Title</th>\n",
       "    </tr>\n",
       "  </thead>\n",
       "  <tbody>\n",
       "    <tr>\n",
       "      <th>0</th>\n",
       "      <td>NCT02266147</td>\n",
       "      <td>studi of sd101 in combin with local lowdos rad...</td>\n",
       "      <td>[sd-101]</td>\n",
       "      <td>[1, 2]</td>\n",
       "      <td>a phase 12 nonrandomized openlabel multicenter...</td>\n",
       "    </tr>\n",
       "    <tr>\n",
       "      <th>1</th>\n",
       "      <td>NCT02055924</td>\n",
       "      <td>bruton tyrosin kinas btk inhibit in bcell lymp...</td>\n",
       "      <td>[ibrutinib, immunochemotherapies]</td>\n",
       "      <td>[1]</td>\n",
       "      <td>a phase ib studi of ibrutinib combin with rdha...</td>\n",
       "    </tr>\n",
       "    <tr>\n",
       "      <th>2</th>\n",
       "      <td>NCT02395601</td>\n",
       "      <td>a studi evalu cpi1205 in patient with bcell ly...</td>\n",
       "      <td>[cpi-1205]</td>\n",
       "      <td>[1]</td>\n",
       "      <td>a phase 1 studi of cpi1205 a small molecul inh...</td>\n",
       "    </tr>\n",
       "    <tr>\n",
       "      <th>3</th>\n",
       "      <td>NCT00162656</td>\n",
       "      <td>treatment of matur bcell lymphomaleukaemia</td>\n",
       "      <td>[half cyclophosphamide, without copadm3, mini ...</td>\n",
       "      <td>[3]</td>\n",
       "      <td>treatment of matur bcell lymphomaleukaemia a s...</td>\n",
       "    </tr>\n",
       "    <tr>\n",
       "      <th>9</th>\n",
       "      <td>NCT02433795</td>\n",
       "      <td>bendamustin plus rituximab br for relaps or pr...</td>\n",
       "      <td>[bendamustine, rituximab]</td>\n",
       "      <td>[2]</td>\n",
       "      <td>a phase ii studi of bendamustin plus rituximab...</td>\n",
       "    </tr>\n",
       "    <tr>\n",
       "      <th>19</th>\n",
       "      <td>NCT02060656</td>\n",
       "      <td>phase ii studi compar lrgem to rgemp in second...</td>\n",
       "      <td>[gemcitabine, methylprednisolone, rituximab, c...</td>\n",
       "      <td>[2]</td>\n",
       "      <td>a randomis phase ii studi compar lenalidomid p...</td>\n",
       "    </tr>\n",
       "    <tr>\n",
       "      <th>20</th>\n",
       "      <td>NCT01068392</td>\n",
       "      <td>oxaliplatin and prednisolon oxp for patient wi...</td>\n",
       "      <td>[oxaliplatin, prednisolone]</td>\n",
       "      <td>[2]</td>\n",
       "      <td>a phase ii studi of oxaliplatin and prednisolo...</td>\n",
       "    </tr>\n",
       "    <tr>\n",
       "      <th>21</th>\n",
       "      <td>NCT02531308</td>\n",
       "      <td>metformin in combin with standard induct thera...</td>\n",
       "      <td>[metformin, rituximab, cyclophosphamide, doxor...</td>\n",
       "      <td>[2]</td>\n",
       "      <td>a phase ll studi evalu the efficaci and safeti...</td>\n",
       "    </tr>\n",
       "    <tr>\n",
       "      <th>26</th>\n",
       "      <td>NCT00097929</td>\n",
       "      <td>an investig drug studi with suberoylanilid hyd...</td>\n",
       "      <td>[mk0683, vorinostat, suberoylanilide hydroxami...</td>\n",
       "      <td>[2]</td>\n",
       "      <td>a phase ii clinic trial of oral suberoylanilid...</td>\n",
       "    </tr>\n",
       "    <tr>\n",
       "      <th>27</th>\n",
       "      <td>NCT01226849</td>\n",
       "      <td>feasibl studi of ad bortezomib to rice chemoth...</td>\n",
       "      <td>[bortezomib, rituximab, ifosphamide, etoposide...</td>\n",
       "      <td>[1]</td>\n",
       "      <td>an openlabel pilot studi to investig feasibl a...</td>\n",
       "    </tr>\n",
       "  </tbody>\n",
       "</table>\n",
       "</div>"
      ],
      "text/plain": [
       "     NCT Number                                              Title  \\\n",
       "0   NCT02266147  studi of sd101 in combin with local lowdos rad...   \n",
       "1   NCT02055924  bruton tyrosin kinas btk inhibit in bcell lymp...   \n",
       "2   NCT02395601  a studi evalu cpi1205 in patient with bcell ly...   \n",
       "3   NCT00162656         treatment of matur bcell lymphomaleukaemia   \n",
       "9   NCT02433795  bendamustin plus rituximab br for relaps or pr...   \n",
       "19  NCT02060656  phase ii studi compar lrgem to rgemp in second...   \n",
       "20  NCT01068392  oxaliplatin and prednisolon oxp for patient wi...   \n",
       "21  NCT02531308  metformin in combin with standard induct thera...   \n",
       "26  NCT00097929  an investig drug studi with suberoylanilid hyd...   \n",
       "27  NCT01226849  feasibl studi of ad bortezomib to rice chemoth...   \n",
       "\n",
       "                                        Interventions  Phases  \\\n",
       "0                                            [sd-101]  [1, 2]   \n",
       "1                   [ibrutinib, immunochemotherapies]     [1]   \n",
       "2                                          [cpi-1205]     [1]   \n",
       "3   [half cyclophosphamide, without copadm3, mini ...     [3]   \n",
       "9                           [bendamustine, rituximab]     [2]   \n",
       "19  [gemcitabine, methylprednisolone, rituximab, c...     [2]   \n",
       "20                        [oxaliplatin, prednisolone]     [2]   \n",
       "21  [metformin, rituximab, cyclophosphamide, doxor...     [2]   \n",
       "26  [mk0683, vorinostat, suberoylanilide hydroxami...     [2]   \n",
       "27  [bortezomib, rituximab, ifosphamide, etoposide...     [1]   \n",
       "\n",
       "                                       Official Title  \n",
       "0   a phase 12 nonrandomized openlabel multicenter...  \n",
       "1   a phase ib studi of ibrutinib combin with rdha...  \n",
       "2   a phase 1 studi of cpi1205 a small molecul inh...  \n",
       "3   treatment of matur bcell lymphomaleukaemia a s...  \n",
       "9   a phase ii studi of bendamustin plus rituximab...  \n",
       "19  a randomis phase ii studi compar lenalidomid p...  \n",
       "20  a phase ii studi of oxaliplatin and prednisolo...  \n",
       "21  a phase ll studi evalu the efficaci and safeti...  \n",
       "26  a phase ii clinic trial of oral suberoylanilid...  \n",
       "27  an openlabel pilot studi to investig feasibl a...  "
      ]
     },
     "execution_count": 20,
     "metadata": {},
     "output_type": "execute_result"
    }
   ],
   "source": [
    "data.head(10)"
   ]
  },
  {
   "cell_type": "markdown",
   "metadata": {},
   "source": [
    "Создадим и сохраним датасет, который будет использоваться утилитой."
   ]
  },
  {
   "cell_type": "code",
   "execution_count": 21,
   "metadata": {},
   "outputs": [],
   "source": [
    "util_data = data.drop(['Title','Official Title'], axis=1)"
   ]
  },
  {
   "cell_type": "code",
   "execution_count": 22,
   "metadata": {},
   "outputs": [
    {
     "data": {
      "text/html": [
       "<div>\n",
       "<style scoped>\n",
       "    .dataframe tbody tr th:only-of-type {\n",
       "        vertical-align: middle;\n",
       "    }\n",
       "\n",
       "    .dataframe tbody tr th {\n",
       "        vertical-align: top;\n",
       "    }\n",
       "\n",
       "    .dataframe thead th {\n",
       "        text-align: right;\n",
       "    }\n",
       "</style>\n",
       "<table border=\"1\" class=\"dataframe\">\n",
       "  <thead>\n",
       "    <tr style=\"text-align: right;\">\n",
       "      <th></th>\n",
       "      <th>NCT Number</th>\n",
       "      <th>Interventions</th>\n",
       "      <th>Phases</th>\n",
       "    </tr>\n",
       "  </thead>\n",
       "  <tbody>\n",
       "    <tr>\n",
       "      <th>0</th>\n",
       "      <td>NCT02266147</td>\n",
       "      <td>[sd-101]</td>\n",
       "      <td>[1, 2]</td>\n",
       "    </tr>\n",
       "    <tr>\n",
       "      <th>1</th>\n",
       "      <td>NCT02055924</td>\n",
       "      <td>[ibrutinib, immunochemotherapies]</td>\n",
       "      <td>[1]</td>\n",
       "    </tr>\n",
       "    <tr>\n",
       "      <th>2</th>\n",
       "      <td>NCT02395601</td>\n",
       "      <td>[cpi-1205]</td>\n",
       "      <td>[1]</td>\n",
       "    </tr>\n",
       "    <tr>\n",
       "      <th>3</th>\n",
       "      <td>NCT00162656</td>\n",
       "      <td>[half cyclophosphamide, without copadm3, mini ...</td>\n",
       "      <td>[3]</td>\n",
       "    </tr>\n",
       "    <tr>\n",
       "      <th>9</th>\n",
       "      <td>NCT02433795</td>\n",
       "      <td>[bendamustine, rituximab]</td>\n",
       "      <td>[2]</td>\n",
       "    </tr>\n",
       "    <tr>\n",
       "      <th>19</th>\n",
       "      <td>NCT02060656</td>\n",
       "      <td>[gemcitabine, methylprednisolone, rituximab, c...</td>\n",
       "      <td>[2]</td>\n",
       "    </tr>\n",
       "    <tr>\n",
       "      <th>20</th>\n",
       "      <td>NCT01068392</td>\n",
       "      <td>[oxaliplatin, prednisolone]</td>\n",
       "      <td>[2]</td>\n",
       "    </tr>\n",
       "    <tr>\n",
       "      <th>21</th>\n",
       "      <td>NCT02531308</td>\n",
       "      <td>[metformin, rituximab, cyclophosphamide, doxor...</td>\n",
       "      <td>[2]</td>\n",
       "    </tr>\n",
       "    <tr>\n",
       "      <th>26</th>\n",
       "      <td>NCT00097929</td>\n",
       "      <td>[mk0683, vorinostat, suberoylanilide hydroxami...</td>\n",
       "      <td>[2]</td>\n",
       "    </tr>\n",
       "    <tr>\n",
       "      <th>27</th>\n",
       "      <td>NCT01226849</td>\n",
       "      <td>[bortezomib, rituximab, ifosphamide, etoposide...</td>\n",
       "      <td>[1]</td>\n",
       "    </tr>\n",
       "  </tbody>\n",
       "</table>\n",
       "</div>"
      ],
      "text/plain": [
       "     NCT Number                                      Interventions  Phases\n",
       "0   NCT02266147                                           [sd-101]  [1, 2]\n",
       "1   NCT02055924                  [ibrutinib, immunochemotherapies]     [1]\n",
       "2   NCT02395601                                         [cpi-1205]     [1]\n",
       "3   NCT00162656  [half cyclophosphamide, without copadm3, mini ...     [3]\n",
       "9   NCT02433795                          [bendamustine, rituximab]     [2]\n",
       "19  NCT02060656  [gemcitabine, methylprednisolone, rituximab, c...     [2]\n",
       "20  NCT01068392                        [oxaliplatin, prednisolone]     [2]\n",
       "21  NCT02531308  [metformin, rituximab, cyclophosphamide, doxor...     [2]\n",
       "26  NCT00097929  [mk0683, vorinostat, suberoylanilide hydroxami...     [2]\n",
       "27  NCT01226849  [bortezomib, rituximab, ifosphamide, etoposide...     [1]"
      ]
     },
     "execution_count": 22,
     "metadata": {},
     "output_type": "execute_result"
    }
   ],
   "source": [
    "util_data.head(10)"
   ]
  },
  {
   "cell_type": "code",
   "execution_count": 23,
   "metadata": {},
   "outputs": [],
   "source": [
    "util_data.to_pickle(os.path.join('data', 'util_data.pkl'))"
   ]
  },
  {
   "cell_type": "markdown",
   "metadata": {},
   "source": [
    "Нам нужно получить датасет для обучения классификатора. Создадим датасет из всевозможных пар документов и разделим их на два класса: \"похожие\" и \"непохожие\".\n",
    "Чтобы разметить датасет на классы нужно ввести меру сходства. Воспользуемся косинусной мерой."
   ]
  },
  {
   "cell_type": "code",
   "execution_count": 24,
   "metadata": {},
   "outputs": [],
   "source": [
    "def get_cosine_sim(*strs): \n",
    "    vectors = [t for t in get_vectors(*strs)]\n",
    "    return cosine_similarity(vectors)\n",
    "    \n",
    "def get_vectors(*strs):\n",
    "    text = [t for t in strs]\n",
    "    vectorizer = CountVectorizer(text)\n",
    "    vectorizer.fit(text)\n",
    "    return vectorizer.transform(text).toarray()"
   ]
  },
  {
   "cell_type": "code",
   "execution_count": 25,
   "metadata": {},
   "outputs": [],
   "source": [
    "nct1 = []\n",
    "nct2 = []\n",
    "interv1 = []\n",
    "interv2 = []\n",
    "phase1 = []\n",
    "phase2 = []\n",
    "cos = []\n",
    "count = 0"
   ]
  },
  {
   "cell_type": "code",
   "execution_count": null,
   "metadata": {},
   "outputs": [],
   "source": [
    "for id1, id2 in itertools.combinations(data.index, 2):\n",
    "    count += 1\n",
    "    if count % 100000 == 0:\n",
    "        print(count)\n",
    "    nct1.append(data['NCT Number'][id1])\n",
    "    nct2.append(data['NCT Number'][id2])\n",
    "    interv1.append(data['Interventions'][id1])\n",
    "    interv2.append(data['Interventions'][id2])\n",
    "    phase1.append(data['Phases'][id1])\n",
    "    phase2.append(data['Phases'][id2])\n",
    "    cos.append(get_cosine_sim(data['Official Title'][id1], data['Official Title'][id2])[0][1])\n"
   ]
  },
  {
   "cell_type": "code",
   "execution_count": null,
   "metadata": {},
   "outputs": [],
   "source": [
    "pair_data = pd.DataFrame(\n",
    "    {'NCT Number 1': nct1, 'NCT Number 2': nct2, 'Interventions 1': interv1, 'Interventions 2': interv2,\n",
    "     'Phases 1': phase1, 'Phases 2': phase2, 'Cosine Distance': cos})\n"
   ]
  },
  {
   "cell_type": "code",
   "execution_count": null,
   "metadata": {},
   "outputs": [],
   "source": [
    "pair_data.head(10)"
   ]
  },
  {
   "cell_type": "markdown",
   "metadata": {},
   "source": [
    "Посмотрим на распределение значений меры."
   ]
  },
  {
   "cell_type": "code",
   "execution_count": null,
   "metadata": {},
   "outputs": [],
   "source": [
    "sns.distplot(pair_data['Cosine Distance'])"
   ]
  },
  {
   "cell_type": "markdown",
   "metadata": {},
   "source": [
    "Для разбиения на классы необходимо выбрать порог меры, с которого будем считать документы похожими. Качество работы классификатора существенно зависит от этого выбора. Полезно было бы попросить экспертов вручную разметить небольшое подмножество данных, и на основании этого определить порог. За неимением такой возможности, воспользуемся довольно грубой оценкой и возьмем порог равным 0.5."
   ]
  },
  {
   "cell_type": "code",
   "execution_count": null,
   "metadata": {},
   "outputs": [],
   "source": [
    "counter = 0\n",
    "for index in pair_data.index:\n",
    "    counter += 1\n",
    "    if counter % 100000 == 0:\n",
    "        print(counter)\n",
    "    if pair_data.loc[index, 'Cosine Distance'] > 0.5:\n",
    "        pair_data.loc[index, 'Is Similar'] = 1\n",
    "    else:\n",
    "        pair_data.loc[index, 'Is Similar'] = 0"
   ]
  },
  {
   "cell_type": "code",
   "execution_count": null,
   "metadata": {},
   "outputs": [],
   "source": [
    "pair_data.head(10)"
   ]
  },
  {
   "cell_type": "markdown",
   "metadata": {},
   "source": [
    "Представим списки лекарств и фаз в виде наборов бинарных признаков."
   ]
  },
  {
   "cell_type": "code",
   "execution_count": null,
   "metadata": {},
   "outputs": [],
   "source": [
    "binarize_phase = MultiLabelBinarizer()\n",
    "binarize_drugs = MultiLabelBinarizer()\n",
    "binarize_drugs.fit(util_data['Interventions'])\n"
   ]
  },
  {
   "cell_type": "code",
   "execution_count": null,
   "metadata": {},
   "outputs": [],
   "source": [
    "train_data = pd.DataFrame(binarize_phase.fit_transform(pair_data['Phases 1']),\n",
    "                          columns='Is 1st phase ' + binarize_phase.classes_, index=pair_data.index)\n",
    "train_data = train_data.join(\n",
    "    pd.DataFrame(binarize_drugs.transform(pair_data['Interventions 1']), columns='Is 1st ' + binarize_drugs.classes_,\n",
    "                 index=pair_data.index))\n",
    "train_data = train_data.join(\n",
    "    pd.DataFrame(binarize_phase.transform(pair_data['Phases 2']), columns='Is 2nd phase  ' + binarize_phase.classes_,\n",
    "                 index=pair_data.index))\n",
    "train_data = train_data.join(\n",
    "    pd.DataFrame(binarize_drugs.transform(pair_data['Interventions 2']), columns='Is 2nd ' + binarize_drugs.classes_,\n",
    "                 index=pair_data.index))\n"
   ]
  },
  {
   "cell_type": "code",
   "execution_count": null,
   "metadata": {},
   "outputs": [],
   "source": [
    "Y = pair_data['Is Similar']"
   ]
  },
  {
   "cell_type": "code",
   "execution_count": null,
   "metadata": {},
   "outputs": [],
   "source": [
    "train_data.head(5)"
   ]
  },
  {
   "cell_type": "code",
   "execution_count": null,
   "metadata": {},
   "outputs": [],
   "source": [
    "first_len = pair_data[pair_data['Is Similar'] == 0].shape[0]\n",
    "second_len = pair_data[pair_data['Is Similar'] == 1].shape[0]"
   ]
  },
  {
   "cell_type": "code",
   "execution_count": null,
   "metadata": {},
   "outputs": [],
   "source": [
    "plt.bar(10,first_len,3, label=\"False\")\n",
    "plt.bar(15,second_len,3, label=\"True\")\n",
    "plt.legend()\n",
    "plt.ylabel('Number of examples')\n",
    "plt.title('Proportion of examples')\n",
    "plt.show()"
   ]
  },
  {
   "cell_type": "markdown",
   "metadata": {},
   "source": [
    "Датасет сильно несбалансирован, при этом он довольно большой. Воспользуемся случайным андерсэмплиногом. "
   ]
  },
  {
   "cell_type": "code",
   "execution_count": null,
   "metadata": {},
   "outputs": [],
   "source": [
    "rus = RandomUnderSampler(random_state=42)\n",
    "X_rus, y_rus = rus.fit_sample(train_data, Y)"
   ]
  },
  {
   "cell_type": "code",
   "execution_count": null,
   "metadata": {},
   "outputs": [],
   "source": [
    "X_train, X_test, y_train, y_test = train_test_split(X_rus, y_rus, test_size=0.10, random_state=42)"
   ]
  },
  {
   "cell_type": "markdown",
   "metadata": {},
   "source": [
    "# Выбор модели классификатора"
   ]
  },
  {
   "cell_type": "markdown",
   "metadata": {},
   "source": [
    "### XGBoost"
   ]
  },
  {
   "cell_type": "code",
   "execution_count": 40,
   "metadata": {},
   "outputs": [
    {
     "name": "stdout",
     "output_type": "stream",
     "text": [
      "Fitting 3 folds for each of 2 candidates, totalling 6 fits\n",
      "[CV] learning_rate=0.01, max_depth=8, n_estimators=2000, nthread=16, objective=binary:logistic, seed=42 \n",
      "[CV] learning_rate=0.01, max_depth=8, n_estimators=2000, nthread=16, objective=binary:logistic, seed=42 \n",
      "[CV] learning_rate=0.01, max_depth=8, n_estimators=2000, nthread=16, objective=binary:logistic, seed=42 \n",
      "[CV] learning_rate=0.01, max_depth=8, n_estimators=5000, nthread=16, objective=binary:logistic, seed=42 \n",
      "[CV] learning_rate=0.01, max_depth=8, n_estimators=5000, nthread=16, objective=binary:logistic, seed=42 \n",
      "[CV] learning_rate=0.01, max_depth=8, n_estimators=5000, nthread=16, objective=binary:logistic, seed=42 \n",
      "[CV]  learning_rate=0.01, max_depth=8, n_estimators=2000, nthread=16, objective=binary:logistic, seed=42, total=125.6min\n",
      "[CV]  learning_rate=0.01, max_depth=8, n_estimators=2000, nthread=16, objective=binary:logistic, seed=42, total=127.6min\n",
      "[CV]  learning_rate=0.01, max_depth=8, n_estimators=2000, nthread=16, objective=binary:logistic, seed=42, total=128.1min\n"
     ]
    },
    {
     "name": "stderr",
     "output_type": "stream",
     "text": [
      "[Parallel(n_jobs=-1)]: Done   3 out of   6 | elapsed: 128.5min remaining: 128.5min\n"
     ]
    },
    {
     "name": "stdout",
     "output_type": "stream",
     "text": [
      "[CV]  learning_rate=0.01, max_depth=8, n_estimators=5000, nthread=16, objective=binary:logistic, seed=42, total=226.8min\n",
      "[CV]  learning_rate=0.01, max_depth=8, n_estimators=5000, nthread=16, objective=binary:logistic, seed=42, total=227.0min\n",
      "[CV]  learning_rate=0.01, max_depth=8, n_estimators=5000, nthread=16, objective=binary:logistic, seed=42, total=227.5min\n"
     ]
    },
    {
     "name": "stderr",
     "output_type": "stream",
     "text": [
      "[Parallel(n_jobs=-1)]: Done   6 out of   6 | elapsed: 227.7min finished\n"
     ]
    },
    {
     "data": {
      "text/plain": [
       "GridSearchCV(cv=3, error_score='raise',\n",
       "       estimator=XGBClassifier(base_score=0.5, booster='gbtree', colsample_bylevel=1,\n",
       "       colsample_bytree=1, gamma=0, learning_rate=0.1, max_delta_step=0,\n",
       "       max_depth=3, min_child_weight=1, missing=None, n_estimators=100,\n",
       "       n_jobs=1, nthread=None, objective='binary:logistic', random_state=0,\n",
       "       reg_alpha=0, reg_lambda=1, scale_pos_weight=1, seed=None,\n",
       "       silent=True, subsample=1),\n",
       "       fit_params=None, iid=True, n_jobs=-1,\n",
       "       param_grid={'nthread': [16], 'objective': ['binary:logistic'], 'max_depth': [8], 'learning_rate': [0.01], 'n_estimators': [2000, 5000], 'seed': [42]},\n",
       "       pre_dispatch='2*n_jobs', refit=True, return_train_score=True,\n",
       "       scoring='average_precision', verbose=2)"
      ]
     },
     "execution_count": 40,
     "metadata": {},
     "output_type": "execute_result"
    }
   ],
   "source": [
    "parameters = {\n",
    "    'nthread': [16],\n",
    "    'objective': ['binary:logistic'],\n",
    "    'max_depth': [8],\n",
    "    'learning_rate': [0.01],\n",
    "    'n_estimators': [2000, 5000],\n",
    "    'seed': [42]\n",
    "}\n",
    "\n",
    "classifier = XGBClassifier()\n",
    "classifier = GridSearchCV(classifier, parameters, cv=3, scoring='average_precision', verbose=2,\n",
    "                          n_jobs=-1, return_train_score=True)\n",
    "classifier.fit(X_train, y_train)"
   ]
  },
  {
   "cell_type": "code",
   "execution_count": 41,
   "metadata": {},
   "outputs": [
    {
     "name": "stderr",
     "output_type": "stream",
     "text": [
      "/home/daniil_chuykin/anaconda3/envs/py36/lib/python3.6/site-packages/sklearn/preprocessing/label.py:151: DeprecationWarning: The truth value of an empty array is ambiguous. Returning False, but in future this will result in an error. Use `array.size > 0` to check that an array is not empty.\n",
      "  if diff:\n"
     ]
    }
   ],
   "source": [
    "y_pred = classifier.predict(X_test)"
   ]
  },
  {
   "cell_type": "code",
   "execution_count": 42,
   "metadata": {},
   "outputs": [
    {
     "name": "stdout",
     "output_type": "stream",
     "text": [
      "AUC-ROC: 0.8017426507464709\n"
     ]
    }
   ],
   "source": [
    "auc_roc = roc_auc_score(y_test, y_pred)\n",
    "\n",
    "print('AUC-ROC: {}'.format(auc_roc))"
   ]
  },
  {
   "cell_type": "code",
   "execution_count": 43,
   "metadata": {},
   "outputs": [
    {
     "name": "stdout",
     "output_type": "stream",
     "text": [
      "AUC-PR: 0.7399659536712025.\n"
     ]
    }
   ],
   "source": [
    "auc_pr = average_precision_score(y_test, y_pred)\n",
    "\n",
    "print('AUC-PR: {}.'.format(auc_pr))"
   ]
  },
  {
   "cell_type": "code",
   "execution_count": 44,
   "metadata": {},
   "outputs": [
    {
     "name": "stdout",
     "output_type": "stream",
     "text": [
      "Recall: 0.8586264656616416.\n"
     ]
    }
   ],
   "source": [
    "recall = recall_score(y_test, y_pred)\n",
    "print('Recall: {}.'.format(recall))"
   ]
  },
  {
   "cell_type": "code",
   "execution_count": 45,
   "metadata": {},
   "outputs": [
    {
     "data": {
      "text/plain": [
       "XGBClassifier(base_score=0.5, booster='gbtree', colsample_bylevel=1,\n",
       "       colsample_bytree=1, gamma=0, learning_rate=0.01, max_delta_step=0,\n",
       "       max_depth=8, min_child_weight=1, missing=None, n_estimators=5000,\n",
       "       n_jobs=1, nthread=16, objective='binary:logistic', random_state=0,\n",
       "       reg_alpha=0, reg_lambda=1, scale_pos_weight=1, seed=42, silent=True,\n",
       "       subsample=1)"
      ]
     },
     "execution_count": 45,
     "metadata": {},
     "output_type": "execute_result"
    }
   ],
   "source": [
    "classifier.best_estimator_"
   ]
  },
  {
   "cell_type": "code",
   "execution_count": 92,
   "metadata": {},
   "outputs": [],
   "source": [
    "classifier.best_estimator_.save_model(os.path.join('models', 'XGBoost.model'))"
   ]
  },
  {
   "cell_type": "markdown",
   "metadata": {},
   "source": [
    "### Логистическая регрессия"
   ]
  },
  {
   "cell_type": "code",
   "execution_count": 55,
   "metadata": {},
   "outputs": [
    {
     "name": "stdout",
     "output_type": "stream",
     "text": [
      "Logistic Regression AUC-PR: 0.854 ± 0.003\n"
     ]
    }
   ],
   "source": [
    "kf = KFold(n_splits=3, shuffle=True, random_state=42)\n",
    "LR = LogisticRegressionCV(penalty='l2', n_jobs=-1, scoring='average_precision')\n",
    "cv = kf.split(X_train, y_train)\n",
    "LR_scores_b = cross_val_score(LR, X_train, y_train, scoring='average_precision', cv=cv)\n",
    "print('Logistic Regression AUC-PR: {0:.3f} ± {1:.3f}'.format(LR_scores_b.mean(), LR_scores_b.std()))"
   ]
  },
  {
   "cell_type": "code",
   "execution_count": 48,
   "metadata": {},
   "outputs": [],
   "source": [
    "LR = LR.fit(X_train, y_train)"
   ]
  },
  {
   "cell_type": "code",
   "execution_count": 93,
   "metadata": {},
   "outputs": [],
   "source": [
    "with open(os.path.join('models', 'LR_model.pkl'), 'wb') as fid:\n",
    "    pickle.dump(LR, fid)  "
   ]
  },
  {
   "cell_type": "markdown",
   "metadata": {},
   "source": [
    "### Random forest"
   ]
  },
  {
   "cell_type": "code",
   "execution_count": null,
   "metadata": {},
   "outputs": [],
   "source": [
    "rf = RandomForestClassifier(n_jobs=-1)\n",
    "\n",
    "cv = kf.split(X_train, y_train)\n",
    "prange = np.arange(20, 270, 50, dtype=int)\n",
    "rf_train_scores, rf_cv_scores = validation_curve(rf, X_train, y_train, param_name='n_estimators',\n",
    "                                                 param_range=prange, cv=cv, scoring='average_precision')\n",
    "plt.title('max_depth = None')\n",
    "plt.xlabel('n_estimators')\n",
    "plt.ylabel('score')\n",
    "plt.plot(prange, np.mean(rf_cv_scores, axis=1))\n",
    "plt.show()"
   ]
  },
  {
   "cell_type": "code",
   "execution_count": null,
   "metadata": {},
   "outputs": [],
   "source": [
    "cv = kf.split(X_train, y_train)\n",
    "rf = RandomForestClassifier(n_jobs=-1, n_estimators=170)\n",
    "rf_scores = cross_val_score(rf, X_train, y_train, scoring='average_precision', cv=cv)\n",
    "print('Random Forest AUC-PR: {0:.3f} ± {1:.3f}'.format(rf_scores.mean(), rf_scores.std()))"
   ]
  },
  {
   "cell_type": "code",
   "execution_count": null,
   "metadata": {},
   "outputs": [],
   "source": [
    "RF = rf.fit(X_train, y_train)"
   ]
  },
  {
   "cell_type": "code",
   "execution_count": null,
   "metadata": {},
   "outputs": [],
   "source": [
    "with open(os.path.join('models', 'RF_model.pkl'), 'wb') as fid:\n",
    "    pickle.dump(RF, fid)"
   ]
  },
  {
   "cell_type": "markdown",
   "metadata": {},
   "source": [
    "Лучше всего выглядит random forest. Его и будем использовать в утилите."
   ]
  },
  {
   "cell_type": "code",
   "execution_count": null,
   "metadata": {},
   "outputs": [],
   "source": []
  }
 ],
 "metadata": {
  "anaconda-cloud": {},
  "kernelspec": {
   "display_name": "Python 3",
   "language": "python",
   "name": "python3"
  },
  "language_info": {
   "codemirror_mode": {
    "name": "ipython",
    "version": 3
   },
   "file_extension": ".py",
   "mimetype": "text/x-python",
   "name": "python",
   "nbconvert_exporter": "python",
   "pygments_lexer": "ipython3",
   "version": "3.6.5"
  }
 },
 "nbformat": 4,
 "nbformat_minor": 1
}
